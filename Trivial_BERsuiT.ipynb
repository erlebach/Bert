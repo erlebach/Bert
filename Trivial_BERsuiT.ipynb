{
  "nbformat": 4,
  "nbformat_minor": 0,
  "metadata": {
    "colab": {
      "name": "Trivial BERsuiT.ipynb",
      "provenance": [],
      "collapsed_sections": [],
      "include_colab_link": true
    },
    "kernelspec": {
      "name": "python3",
      "display_name": "Python 3"
    },
    "accelerator": "GPU"
  },
  "cells": [
    {
      "cell_type": "markdown",
      "metadata": {
        "id": "view-in-github",
        "colab_type": "text"
      },
      "source": [
        "<a href=\"https://colab.research.google.com/github/erlebach/Bert/blob/master/Trivial_BERsuiT.ipynb\" target=\"_parent\"><img src=\"https://colab.research.google.com/assets/colab-badge.svg\" alt=\"Open In Colab\"/></a>"
      ]
    },
    {
      "cell_type": "markdown",
      "metadata": {
        "id": "W-1zl5XdYInf",
        "colab_type": "text"
      },
      "source": [
        "# Trivial BERsuiT - How much trivia does BERT know?\n",
        "*by Chris McCormick*\n",
        "\n",
        "As I've been doing all of this research into BERT, I've been really curious--just how much *trivia* does BERT know? We use BERT for it's impressive knowledge of language, but how many *factoids* are encoded in there along with all of the language understanding?\n",
        "\n",
        "It turns out, kind of a lot! We're going to look at some fun examples in this post. \n",
        "\n",
        "Now, BERT can't generate text, so we can't actually ask it a question and have it generate a natural response. *But,* we can still test its knowledge by formatting our questions as \"fill-in-the-blank\"s.\n"
      ]
    },
    {
      "cell_type": "code",
      "metadata": {
        "id": "lsEglLBZJaw1",
        "colab_type": "code",
        "colab": {
          "base_uri": "https://localhost:8080/",
          "height": 126
        },
        "outputId": "33070dc7-eb56-4298-8346-15b9ca53be24"
      },
      "source": [
        "from google.colab import drive\n",
        "drive.mount('/content/gdrive')"
      ],
      "execution_count": 10,
      "outputs": [
        {
          "output_type": "stream",
          "text": [
            "Go to this URL in a browser: https://accounts.google.com/o/oauth2/auth?client_id=947318989803-6bn6qk8qdgf4n4g3pfee6491hc0brc4i.apps.googleusercontent.com&redirect_uri=urn%3aietf%3awg%3aoauth%3a2.0%3aoob&response_type=code&scope=email%20https%3a%2f%2fwww.googleapis.com%2fauth%2fdocs.test%20https%3a%2f%2fwww.googleapis.com%2fauth%2fdrive%20https%3a%2f%2fwww.googleapis.com%2fauth%2fdrive.photos.readonly%20https%3a%2f%2fwww.googleapis.com%2fauth%2fpeopleapi.readonly\n",
            "\n",
            "Enter your authorization code:\n",
            "··········\n",
            "Mounted at /content/gdrive\n"
          ],
          "name": "stdout"
        }
      ]
    },
    {
      "cell_type": "markdown",
      "metadata": {
        "id": "GaB-b6JkEkeK",
        "colab_type": "text"
      },
      "source": [
        "# Part 1 - Let's Quiz BERT!"
      ]
    },
    {
      "cell_type": "markdown",
      "metadata": {
        "id": "DBDogn_aEod6",
        "colab_type": "text"
      },
      "source": [
        "The code for having BERT answer questions is down in [Part 2](https://colab.research.google.com/drive/14YZpquVhOo78dFdbH8Fva9CNwLanqyBV#scrollTo=457VPa20fZzY) of this post/notebook, but let's start by looking at some examples!\n",
        "\n"
      ]
    },
    {
      "cell_type": "markdown",
      "metadata": {
        "id": "sK6ceKsOLXnW",
        "colab_type": "text"
      },
      "source": [
        "1. \"In ____, Christopher Columbus sailed across the ocean to discover the Americas.\"\n",
        "    * *BERT*: \"**1492**\" - CORRECT \n",
        "2. \"The Second Punic War broke out in ___ after Hannibal's attack on Saguntum.\"\n",
        "    * **BERT**: \"218\" - CORRECT\n",
        "3. \"The ______ Mountains divided Greece into isolated valleys.\"\n",
        "    * **BERT**: \"pindus\" - CORRECT\n",
        "4. \"The Greek gods were said to reside atop _____________ in Greece.\"\n",
        "    * **BERT**: \"the olympus\" - *WRONG*\n",
        "        * It should be \"mount olympus\" -- pretty close, though!\n",
        "5. \"During the rise of Greek city-states, ____ replaced bronze.\"\n",
        "    * **BERT**: \"iron\" - CORRECT\n",
        "6. \"___________ is called the \"Father of Medicine\".\"\n",
        "    * **BERT**: \"hippocrates\" - CORRECT\n",
        "7. \"During the Second Punic War, Hannibal famously led an army of war _________ across the Alps, although many of them perished in the harsh conditions.\"\n",
        "    * **BERT**: \"elephants\" - CORRECT\n",
        "8. \"On December 21, 1864, General Sherman’s famous “March to the Sea” concluded with the capture of ________.\"\n",
        "    * **BERT**: \"atlanta\" - *WRONG*\n",
        "        * It should be \"Savannah\", but at least BERT predicted a southern city.\n",
        "        * Seems like BERT has a pretty strong grasp of world history--let's try some other topics...\n",
        "9. \"On dress shirts, button-down, spread and tab are popular types of _______.\"\n",
        "    * **BERT**: \"button buttons\" - *WRONG*\n",
        "        *  Correct answer is \"collars\".\n",
        "10. \"1 + 1 = _\"\n",
        "    * **BERT**: \"2\" - CORRECT\n",
        "11. \"5 + 5 = __\"\n",
        "    * **BERT**: \"5\" - *WRONG*\n",
        "        * Ok, so BERT's reading comprehension doesn't include the ability to perform basic math :)\n",
        "12. \"If you are having trouble with your computer, you should probably try _________ it.\"\n",
        "    * **BERT**: \"to to with\" - *WRONG*\n",
        "        * Correct answer is \"rebooting\". Apparently BERT doesn't know the first thing about providing IT support... \n",
        "        * BERT gets it right if you give it more help--\"If you are having trouble with your computer, you should try turning ______ and back on again.\", BERT correctly predicts \"it off\".\n",
        "13. \"The correct spelling of 'mispelled' is '__________'.\"\n",
        "   * **BERT**: \"mis -led\" - *WRONG*\n",
        "       * BERT came very close; it predicted 2 out of 3 of the tokens correctly: `['mis', '-', '##led']`. The middle token should be `'#spel'`.\n",
        "14. \"Super Bowl 50 was an American football game in which the ______________ defeated the Carolina Panthers 24–10 to earn their third Super Bowl title.\"\n",
        "    * **BERT**: \"dallas steelers\" - *WRONG*\n",
        "        * It was the Denver Broncos. Apparently BERT knows world history better than sports history.\n",
        "15. \"The Greek religion was ____________, meaning that they believed in many gods.\"\n",
        "    * **BERT**: \"polytheistic\" - CORRECT\n",
        "        * That's better! :)\n",
        "\n"
      ]
    },
    {
      "cell_type": "markdown",
      "metadata": {
        "id": "RA7F01CQR9lN",
        "colab_type": "text"
      },
      "source": [
        "I took my initial examples from this [set of flash cards](https://quizlet.com/295489702/world-history-fill-in-the-blank-flash-cards/) on world history, so that's why there's a disproportionate number about ancient Greece. I'm hoping you guys will try some of your own and share them!\n",
        "\n",
        "In the rest of this post, I'll explain why BERT is so good at this task, as well as the details of the implementation.\n",
        "\n",
        "But before we do that, let's see if we can start some flame wars by asking BERT its opinion on a few very important matters."
      ]
    },
    {
      "cell_type": "markdown",
      "metadata": {
        "id": "MgYjiT0dVGH3",
        "colab_type": "text"
      },
      "source": [
        "1. \"_________ has the best video game console.\"\n",
        "    * **BERT**: \"japan\"\n",
        "2. \"Episode _ is the best of the original Star Wars Trilogy.\"\n",
        "    * **BERT**: \"iii\"\n",
        "3. \"I prefer the ________ over the PlayStation 3.\"\n",
        "    * **BERT**: \"xbox 2\"\n",
        "        * I think BERT meant the 2nd generation Xbox, the \"Xbox 360\". Of course, it's a very leading question...\n",
        "4. \"James Cameron has made many great films, but his best is ____________.\"\n",
        "    * **BERT**: \"titanic\"\n",
        "        * Really BERT? You're picking the chick-flick over the one where an AI becomes sentient and subdues humanity?!\n",
        "5. \"I don't always drink beer, but when I do, I prefer _________.\"\n",
        "    * **BERT**: \"a and ofs\".\n",
        "        * I don't think BERT knows anything about beer, guys...\n",
        "6. \"Chris McCormick creates helpful illustrations and clear explanations of difficult subjects in ________________ and natural language processing.\"\n",
        "    * **BERT**: \"computer linguistics\"\n",
        "        * Well, thank you, BERT--that's very kind.\n"
      ]
    },
    {
      "cell_type": "markdown",
      "metadata": {
        "id": "ceJoLnUmmrRK",
        "colab_type": "text"
      },
      "source": [
        "## Why it Works\n"
      ]
    },
    {
      "cell_type": "markdown",
      "metadata": {
        "id": "4k1U8dYXtvSo",
        "colab_type": "text"
      },
      "source": [
        "\n",
        "*The Masked Language Model*\n",
        "\n",
        "BERT is most exciting because of how well it learns to comprehend language, but clearly it has learned a lot of factoids or \"world knowledge\" as well!\n",
        "\n",
        "This isn't surprising, though, given that \"fill-in-blank\" was exactly what BERT was trained on! \n",
        "\n",
        "For BERT's \"Masked Language Model\" (MLM) pre-training task, all of Wikipedia was fed through BERT (in chunks), and roughly *one in every six words* was replaced with the special `[MASK]` token. For each chunk of text, BERT's job was to predict the missing words.\n",
        "\n",
        "And because Wikipedia was the source for the text, sometimes the masked words would be things like dates, names of people and places, or domain-specific terms. In those cases, to predict the right answer, general language understanding isn't enough. You need to have an education in history, or whichever subject the text is coming from."
      ]
    },
    {
      "cell_type": "markdown",
      "metadata": {
        "id": "7fUpdk3xeSHN",
        "colab_type": "text"
      },
      "source": [
        "> *Side Note:* BERT was trained on both Wikipedia (800M words) and the \"BookCorpus\" (2,500M words). I assumed the latter meant Google's collection of scanned books, but it's actually a collection of *self-published eBooks* taken from this [site](https://www.smashwords.com/)! I've shared more on this in the Appendix [here](https://colab.research.google.com/drive/14YZpquVhOo78dFdbH8Fva9CNwLanqyBV#scrollTo=bf_jvfYu8MG-).\n"
      ]
    },
    {
      "cell_type": "markdown",
      "metadata": {
        "id": "R6fxZflgo4jR",
        "colab_type": "text"
      },
      "source": [
        "It does seem like a waste for BERT to learn all of this *knowledge*, much of which probably has no relevance to your specific application. It's important to recognize, though, that a critical part of BERT's pre-training is the size of the corpus--it was trained on a corpus with over 3 billion words. \n",
        "\n",
        "Sure, it might be better to pre-train BERT on text from your own application area, but only if you have a dataset that's larger than all of Wikipedia! "
      ]
    },
    {
      "cell_type": "markdown",
      "metadata": {
        "id": "zvpwnaQWtxJL",
        "colab_type": "text"
      },
      "source": [
        "## The Token Count Problem"
      ]
    },
    {
      "cell_type": "markdown",
      "metadata": {
        "id": "0wNY1NQdt7Hj",
        "colab_type": "text"
      },
      "source": [
        "There are a couple caveats here which might limit BERT's usefulness for *actually competing* in a trivia game.\n",
        "\n",
        "The first we've already mentioned--the question has to be posed as a fill-in-the-blank. Most quiz games instead pose a full question, and then you have to either state the answer or choose it from a list (\"multiple choice\").\n",
        "\n",
        "The second issue is that, in order for BERT to accurately fill in the blank, it needs to know *how many tokens are in the answer*. And not just the number of words--*the number of tokens*--because the BERT tokenizer will break any out-of-vocabulary words into multiple subwords. \n",
        "\n",
        "For example, for the blank in the question, \"The correct spelling of 'mispelled' is '__________'.\", what's actually passed to BERT is '`[MASK] [MASK] [MASK]`' because the BERT tokenizer breaks \"misspelled\" into three subwords: `['mis', '#spel', '##led']`.\n",
        "\n",
        "In general, though, my goal was not to create a trivia-solving bot, but rather to demonstrate that BERT does know a lot of trivia. For that purpose, telling it how many tokens to predict seems like a small enough concession.\n"
      ]
    },
    {
      "cell_type": "markdown",
      "metadata": {
        "id": "457VPa20fZzY",
        "colab_type": "text"
      },
      "source": [
        "# Part 2 - Source Code\n"
      ]
    },
    {
      "cell_type": "markdown",
      "metadata": {
        "id": "j6l_-o8Cze6E",
        "colab_type": "text"
      },
      "source": [
        "In this section I've included my code for implementing the quiz questions. You can try it out on your own questions, and maybe experiment with different models!"
      ]
    },
    {
      "cell_type": "markdown",
      "metadata": {
        "id": "gw4HAUbwfXLh",
        "colab_type": "text"
      },
      "source": [
        "## Setup"
      ]
    },
    {
      "cell_type": "markdown",
      "metadata": {
        "id": "gVq-TuylYRDW",
        "colab_type": "text"
      },
      "source": [
        "### Install 'transformers'"
      ]
    },
    {
      "cell_type": "markdown",
      "metadata": {
        "id": "f9nhy3PzGQ44",
        "colab_type": "text"
      },
      "source": [
        "This example uses the `transformers` [library](https://github.com/huggingface/transformers/) by huggingface to interact with BERT, so we'll start by installing the package."
      ]
    },
    {
      "cell_type": "code",
      "metadata": {
        "id": "aQl0MMrOGIup",
        "colab_type": "code",
        "outputId": "f11ae0d1-0813-4c12-9484-46c0b0ea9fc7",
        "colab": {
          "base_uri": "https://localhost:8080/",
          "height": 445
        }
      },
      "source": [
        "!pip install transformers"
      ],
      "execution_count": 11,
      "outputs": [
        {
          "output_type": "stream",
          "text": [
            "Requirement already satisfied: transformers in /usr/local/lib/python3.6/dist-packages (2.8.0)\n",
            "Requirement already satisfied: tokenizers==0.5.2 in /usr/local/lib/python3.6/dist-packages (from transformers) (0.5.2)\n",
            "Requirement already satisfied: requests in /usr/local/lib/python3.6/dist-packages (from transformers) (2.23.0)\n",
            "Requirement already satisfied: dataclasses; python_version < \"3.7\" in /usr/local/lib/python3.6/dist-packages (from transformers) (0.7)\n",
            "Requirement already satisfied: filelock in /usr/local/lib/python3.6/dist-packages (from transformers) (3.0.12)\n",
            "Requirement already satisfied: sacremoses in /usr/local/lib/python3.6/dist-packages (from transformers) (0.0.43)\n",
            "Requirement already satisfied: tqdm>=4.27 in /usr/local/lib/python3.6/dist-packages (from transformers) (4.38.0)\n",
            "Requirement already satisfied: sentencepiece in /usr/local/lib/python3.6/dist-packages (from transformers) (0.1.86)\n",
            "Requirement already satisfied: boto3 in /usr/local/lib/python3.6/dist-packages (from transformers) (1.12.47)\n",
            "Requirement already satisfied: regex!=2019.12.17 in /usr/local/lib/python3.6/dist-packages (from transformers) (2019.12.20)\n",
            "Requirement already satisfied: numpy in /usr/local/lib/python3.6/dist-packages (from transformers) (1.18.3)\n",
            "Requirement already satisfied: certifi>=2017.4.17 in /usr/local/lib/python3.6/dist-packages (from requests->transformers) (2020.4.5.1)\n",
            "Requirement already satisfied: chardet<4,>=3.0.2 in /usr/local/lib/python3.6/dist-packages (from requests->transformers) (3.0.4)\n",
            "Requirement already satisfied: idna<3,>=2.5 in /usr/local/lib/python3.6/dist-packages (from requests->transformers) (2.9)\n",
            "Requirement already satisfied: urllib3!=1.25.0,!=1.25.1,<1.26,>=1.21.1 in /usr/local/lib/python3.6/dist-packages (from requests->transformers) (1.24.3)\n",
            "Requirement already satisfied: click in /usr/local/lib/python3.6/dist-packages (from sacremoses->transformers) (7.1.2)\n",
            "Requirement already satisfied: six in /usr/local/lib/python3.6/dist-packages (from sacremoses->transformers) (1.12.0)\n",
            "Requirement already satisfied: joblib in /usr/local/lib/python3.6/dist-packages (from sacremoses->transformers) (0.14.1)\n",
            "Requirement already satisfied: s3transfer<0.4.0,>=0.3.0 in /usr/local/lib/python3.6/dist-packages (from boto3->transformers) (0.3.3)\n",
            "Requirement already satisfied: botocore<1.16.0,>=1.15.47 in /usr/local/lib/python3.6/dist-packages (from boto3->transformers) (1.15.47)\n",
            "Requirement already satisfied: jmespath<1.0.0,>=0.7.1 in /usr/local/lib/python3.6/dist-packages (from boto3->transformers) (0.9.5)\n",
            "Requirement already satisfied: python-dateutil<3.0.0,>=2.1 in /usr/local/lib/python3.6/dist-packages (from botocore<1.16.0,>=1.15.47->boto3->transformers) (2.8.1)\n",
            "Requirement already satisfied: docutils<0.16,>=0.10 in /usr/local/lib/python3.6/dist-packages (from botocore<1.16.0,>=1.15.47->boto3->transformers) (0.15.2)\n"
          ],
          "name": "stdout"
        }
      ]
    },
    {
      "cell_type": "markdown",
      "metadata": {
        "id": "1WThOUtpYvG-",
        "colab_type": "text"
      },
      "source": [
        "### 2. Load Pre-Trained BERT"
      ]
    },
    {
      "cell_type": "markdown",
      "metadata": {
        "id": "AaweLnNXGhTY",
        "colab_type": "text"
      },
      "source": [
        "I decided to use `BERT-large` for this Notebook--it's a *huge* model (24-layers and an embedding size of 1,024), but we won't need to perform any fine-tuning on it for this example, so we might as well use the large variant! \n",
        "\n",
        "To work with this model, we'll use the [BertForMaskedLM](https://huggingface.co/transformers/model_doc/bert.html?#bertformaskedlm) class from the `transformers` library. This \"Masked Language Model\" is what Google used to perform \"pre-training\" on BERT-large, so it's already been fine-tuned for us!\n",
        "\n",
        "I'm also using the `whole-word-masking` variant of BERT. The original BERT masked individual tokens, which meant that sometimes the masked token was a subword within a word. More recently, the authors modified this task to ensure that all parts of any masked word are selected; this is a more difficult task and it improves the quality of the pre-trained model. "
      ]
    },
    {
      "cell_type": "code",
      "metadata": {
        "id": "-Mnv95sX-U9K",
        "colab_type": "code",
        "colab": {}
      },
      "source": [
        "import torch\n",
        "from transformers import BertForMaskedLM, BertTokenizer\n",
        "\n",
        "# generates lots of errors in Q&A (cased)\n",
        "pre = 'bert-large-cased-whole-word-masking'\n",
        "#pre = 'bert-large-uncased-whole-word-masking' # correct: 22/72\n",
        "\n",
        "#model = BertForMaskedLM.from_pretrained('bert-large-uncased-whole-word-masking')\n",
        "#tokenizer = BertTokenizer.from_pretrained('bert-large-uncased-whole-word-masking')\n",
        "model = BertForMaskedLM.from_pretrained(pre)\n",
        "tokenizer = BertTokenizer.from_pretrained(pre)"
      ],
      "execution_count": 0,
      "outputs": []
    },
    {
      "cell_type": "markdown",
      "metadata": {
        "id": "MpTmnKgQJ-y0",
        "colab_type": "text"
      },
      "source": [
        "I also tried out `ALBERT-xxlarge`. Compared to BERT-large, it got some answers wrong and some others right--so it didn't seem to me to be substantially better than BERT-large for this task. I don't have a formal benchmark here, though... \n",
        "\n",
        "If you decide to try ALBERT, note that ALBERT also uses whole-word masking, along with \"n-gram masking\", meaning it would pick multiple sequential words to mask out."
      ]
    },
    {
      "cell_type": "code",
      "metadata": {
        "id": "SFQ5f7gv-RBH",
        "colab_type": "code",
        "colab": {}
      },
      "source": [
        "#from transformers import AlbertForMaskedLM, AlbertTokenizer\n",
        "\n",
        "#model = AlbertForMaskedLM.from_pretrained('albert-xxlarge-v1')\n",
        "#tokenizer = AlbertTokenizer.from_pretrained('albert-xxlarge-v1')\n",
        "\n",
        "#model = AlbertForMaskedLM.from_pretrained('albert-xxlarge-v2')\n",
        "#tokenizer = AlbertTokenizer.from_pretrained('albert-xxlarge-v2')"
      ],
      "execution_count": 0,
      "outputs": []
    },
    {
      "cell_type": "code",
      "metadata": {
        "id": "g8CeLg8jTFyK",
        "colab_type": "code",
        "colab": {}
      },
      "source": [
        "# Have the model run on the GPU.\n",
        "desc = model.to('cuda')"
      ],
      "execution_count": 0,
      "outputs": []
    },
    {
      "cell_type": "markdown",
      "metadata": {
        "id": "fPRCwNFc06we",
        "colab_type": "text"
      },
      "source": [
        "## Retrieve Questions"
      ]
    },
    {
      "cell_type": "markdown",
      "metadata": {
        "id": "OC28IYCmPU32",
        "colab_type": "text"
      },
      "source": [
        "I've defined a number of questions in a Google Spreadsheet [here](https://docs.google.com/spreadsheets/d/1zN4P-O6sNpATbEy7suAKhwyziWCxQ_XCnypxMzHZFR0/edit#gid=537013301)--currently there are about 50. The [Trivia Question Sources](https://colab.research.google.com/drive/14YZpquVhOo78dFdbH8Fva9CNwLanqyBV#scrollTo=XfgHLMExXyIE) section in the appendix lists some places that I've pulled from. \n",
        "\n",
        "The Google sheet is publicly viewable, but not editable--if you have more questions to add, send me a link to your own copy of the sheet and I'll pull them in. \n"
      ]
    },
    {
      "cell_type": "code",
      "metadata": {
        "id": "dwY2a5otGu8C",
        "colab_type": "code",
        "colab": {}
      },
      "source": [
        "import pandas as pd\n",
        "import gspread"
      ],
      "execution_count": 0,
      "outputs": []
    },
    {
      "cell_type": "code",
      "metadata": {
        "id": "Y2DJL2WCGu5L",
        "colab_type": "code",
        "colab": {}
      },
      "source": [
        "from google.colab import auth\n",
        "\n",
        "# Even though my sheet is publicly viewable, it seems that you still have to\n",
        "# authorize `gspread`. \n",
        "auth.authenticate_user() \n",
        "\n",
        "from oauth2client.client import GoogleCredentials\n",
        "\n",
        "gc = gspread.authorize(GoogleCredentials.get_application_default()) "
      ],
      "execution_count": 0,
      "outputs": []
    },
    {
      "cell_type": "code",
      "metadata": {
        "id": "MmyvbixaGu24",
        "colab_type": "code",
        "outputId": "a2df6096-3061-4235-d6fb-5fd8907332f8",
        "colab": {
          "base_uri": "https://localhost:8080/",
          "height": 240
        }
      },
      "source": [
        "#from google.colab import files\n",
        "#uploaded = files.upload()\n",
        "\n",
        "# Open the spreadsheet by file ID.\n",
        "#spreadsheet = gc.open_by_key('1zN4P-O6sNpATbEy7suAKhwyziWCxQ_XCnypxMzHZFR0')\n",
        "\n",
        "# Open the spreadsheet by name--only works if the file is already in your drive.\n",
        "spreadsheet = gc.open(\"Trivia Questions_Bert\")#ge\n",
        "\n",
        "# Grab the first (and only) sheet.\n",
        "sheet =  spreadsheet.get_worksheet(0)\n",
        "\n",
        "\n",
        "# Parse into a pandas DataFrame!\n",
        "df2 = pd.DataFrame(sheet.get_all_records())\n",
        "\n",
        "# The 'ID' column is there to be used as an index.\n",
        "df2 = df2.set_index('ID')\n",
        "\n",
        "# Show the first few rows...\n",
        "df2.head()"
      ],
      "execution_count": 69,
      "outputs": [
        {
          "output_type": "execute_result",
          "data": {
            "text/html": [
              "<div>\n",
              "<style scoped>\n",
              "    .dataframe tbody tr th:only-of-type {\n",
              "        vertical-align: middle;\n",
              "    }\n",
              "\n",
              "    .dataframe tbody tr th {\n",
              "        vertical-align: top;\n",
              "    }\n",
              "\n",
              "    .dataframe thead th {\n",
              "        text-align: right;\n",
              "    }\n",
              "</style>\n",
              "<table border=\"1\" class=\"dataframe\">\n",
              "  <thead>\n",
              "    <tr style=\"text-align: right;\">\n",
              "      <th></th>\n",
              "      <th>Question</th>\n",
              "      <th>Answer</th>\n",
              "      <th>Category</th>\n",
              "      <th>Source</th>\n",
              "      <th>Notes</th>\n",
              "    </tr>\n",
              "    <tr>\n",
              "      <th>ID</th>\n",
              "      <th></th>\n",
              "      <th></th>\n",
              "      <th></th>\n",
              "      <th></th>\n",
              "      <th></th>\n",
              "    </tr>\n",
              "  </thead>\n",
              "  <tbody>\n",
              "    <tr>\n",
              "      <th>1</th>\n",
              "      <td>In 1492, Christopher Columbus sailed across th...</td>\n",
              "      <td>1492</td>\n",
              "      <td>World History</td>\n",
              "      <td>Chris</td>\n",
              "      <td></td>\n",
              "    </tr>\n",
              "    <tr>\n",
              "      <th>17</th>\n",
              "      <td>The Second Punic War broke out in 218 after Ha...</td>\n",
              "      <td>218</td>\n",
              "      <td>World History</td>\n",
              "      <td>quizlet</td>\n",
              "      <td></td>\n",
              "    </tr>\n",
              "    <tr>\n",
              "      <th>6</th>\n",
              "      <td>The Pindus Mountains divided Greece into isola...</td>\n",
              "      <td>Pindus</td>\n",
              "      <td>World History</td>\n",
              "      <td>quizlet</td>\n",
              "      <td></td>\n",
              "    </tr>\n",
              "    <tr>\n",
              "      <th>7</th>\n",
              "      <td>The Greek gods were said to reside atop Mount ...</td>\n",
              "      <td>Mount Olympus</td>\n",
              "      <td>World History</td>\n",
              "      <td>quizlet</td>\n",
              "      <td></td>\n",
              "    </tr>\n",
              "    <tr>\n",
              "      <th>8</th>\n",
              "      <td>During the rise of Greek city-states, iron rep...</td>\n",
              "      <td>iron</td>\n",
              "      <td>World History</td>\n",
              "      <td>quizlet</td>\n",
              "      <td></td>\n",
              "    </tr>\n",
              "  </tbody>\n",
              "</table>\n",
              "</div>"
            ],
            "text/plain": [
              "                                             Question  ... Notes\n",
              "ID                                                     ...      \n",
              "1   In 1492, Christopher Columbus sailed across th...  ...      \n",
              "17  The Second Punic War broke out in 218 after Ha...  ...      \n",
              "6   The Pindus Mountains divided Greece into isola...  ...      \n",
              "7   The Greek gods were said to reside atop Mount ...  ...      \n",
              "8   During the rise of Greek city-states, iron rep...  ...      \n",
              "\n",
              "[5 rows x 5 columns]"
            ]
          },
          "metadata": {
            "tags": []
          },
          "execution_count": 69
        }
      ]
    },
    {
      "cell_type": "markdown",
      "metadata": {
        "id": "CgVzSvKALONe",
        "colab_type": "text"
      },
      "source": [
        "## Functions"
      ]
    },
    {
      "cell_type": "markdown",
      "metadata": {
        "id": "wyn9Qz1R5Y62",
        "colab_type": "text"
      },
      "source": [
        "This section defines the code for answering the questions, and for formatting the questions and answers in a fun way :)"
      ]
    },
    {
      "cell_type": "markdown",
      "metadata": {
        "id": "_LRQYRbP2_Pp",
        "colab_type": "text"
      },
      "source": [
        "### print_question\n",
        "\n",
        "This function prints out the question, with the answer replaced by a \"blank\" (underscores)."
      ]
    },
    {
      "cell_type": "code",
      "metadata": {
        "id": "Clo8CZj1EhGH",
        "colab_type": "code",
        "colab": {}
      },
      "source": [
        "import textwrap\n",
        "\n",
        "# Create a text-wrapper to constrain the question text to 80 characters.\n",
        "wrapper = textwrap.TextWrapper(initial_indent=\"    \", \n",
        "                               subsequent_indent=\"    \", width = 80)\n",
        "\n",
        "def print_question(q_orig, answer, show_mask = False):\n",
        "    '''\n",
        "    Prints out a question `q_orig` with the `answer` replaced by underscores.\n",
        "    '''\n",
        "    \n",
        "    # Verify the answer is actually in the question string!\n",
        "    if not answer in q_orig:\n",
        "        print('Error -- answer not found in question!')\n",
        "        return\n",
        "\n",
        "    # Tokenize the answer--it may be broken into multiple words and/or subwords.\n",
        "    answer_tokens = tokenizer.tokenize(answer)\n",
        "\n",
        "    # Create the version of the sentence to display (with the answer removed).\n",
        "    # Note: This is slightly different from the similar code in \n",
        "    # `answer_question` because we don't need to convert to lowercase here.\n",
        "    if show_mask:\n",
        "        # Replace the answer with the correct number of '[MASK]' tokens.\n",
        "        hide_str = ' '.join(['[MASK]']*len(answer_tokens))\n",
        "    else:\n",
        "        # Replace the answer with underscores.\n",
        "        hide_str = '_'*len(answer)\n",
        "\n",
        "    # Replace the answer (with either underscores or mask tokens).\n",
        "    q_disp = q_orig.replace(answer, hide_str)\n",
        "\n",
        "    print('==== Question ====\\n')\n",
        "\n",
        "    # Print the question, with the answer removed.\n",
        "    print(wrapper.fill(q_disp))\n",
        "\n",
        "    print('')"
      ],
      "execution_count": 0,
      "outputs": []
    },
    {
      "cell_type": "markdown",
      "metadata": {
        "id": "fwb00ib7N9no",
        "colab_type": "text"
      },
      "source": [
        "### predict_answer\n"
      ]
    },
    {
      "cell_type": "markdown",
      "metadata": {
        "id": "VhuEe7DVf1Ak",
        "colab_type": "text"
      },
      "source": [
        "This function uses the BERT MLM model to try and \"fill-in-the-blank\".\n",
        "\n",
        "I was glad to see that the MLM model *does* include the weights for the output classifier (which predicts the token). \n",
        "\n",
        "\n"
      ]
    },
    {
      "cell_type": "code",
      "metadata": {
        "colab_type": "code",
        "id": "VZ7ZZqlr-Jpu",
        "colab": {}
      },
      "source": [
        "import numpy as np\n",
        "\n",
        "def predict_answer(q_orig, answer):\n",
        "    '''\n",
        "    Apply the BERT Masked LM to the question text to predict the answer tokens.\n",
        "    Parameters:\n",
        "      `q_orig` - The unmodified question text (as a string), with the answer \n",
        "                 still in place.\n",
        "      `answer` - String containing the portion of the sentence to be masked out.\n",
        "    '''\n",
        "    # Tokenize the answer--it may be broken into multiple subwords.\n",
        "    answer_tokens = tokenizer.tokenize(answer)\n",
        "    print(\"GE: enter predict_answer\")\n",
        "    print(\"answer: \", answer)\n",
        "    print(\"answer_tokens= \", answer_tokens) # There is no CLS\n",
        "\n",
        "    # Create a sequence of `[MASK]` tokens to put in place of the answer.\n",
        "    masks_str = ' '.join(['[MASK]']*len(answer_tokens))\n",
        "    print(\"masks_str= \", masks_str)\n",
        "\n",
        "    # Replace the answer with mask tokens.\n",
        "    q_masked = q_orig.replace(answer, masks_str)\n",
        "    print(\"q_masked= \", q_masked)\n",
        "\n",
        "    # `encode` performs multiple functions:\n",
        "    #   1. Tokenizes the text\n",
        "    #   2. Maps the tokens to their IDs\n",
        "    #   3. Adds the special [CLS] and [SEP] tokens.\n",
        "    input_ids = tokenizer.encode(q_masked)\n",
        "    print(\"input_ids= \", input_ids)\n",
        "\n",
        "    # Find all indeces of the [MASK] token.\n",
        "    mask_token_indeces = np.where(np.array(input_ids) == tokenizer.mask_token_id)[0]\n",
        "\n",
        "    # ======== Choose Answer(s) ========\n",
        "    model.eval()\n",
        "\n",
        "    # List of tokens predicted by BERT.\n",
        "    pred_tokens = []\n",
        "\n",
        "    # Convert inputs to PyTorch tensors\n",
        "    tokens_tensor = torch.tensor([input_ids])\n",
        "\n",
        "    # Copy the input to the GPU.\n",
        "    tokens_tensor = tokens_tensor.to('cuda')\n",
        "\n",
        "    # Predict all tokens\n",
        "    with torch.no_grad():\n",
        "        # Evaluate the model on the sentence.\n",
        "        outputs = model(tokens_tensor)\n",
        "\n",
        "        # Predictions will have shape:\n",
        "        #  [1  x  sentence_length  x   vocab_size]\n",
        "        #\n",
        "        # e.g., torch.Size([1, 18, 30522])\n",
        "        #\n",
        "        # For a given word in the input text, the model produces a score for\n",
        "        # every word in the vocabulary, and the word with the highest score \n",
        "        # is what we take as the predicted token. Note that the model does \n",
        "        # this for every word in the input text, not just the [MASK] token...\n",
        "        predictions = outputs[0]\n",
        "\n",
        "    # For each of the mask tokens...\n",
        "    for masked_i in mask_token_indeces:\n",
        "\n",
        "        # Get the scores corresponding to the word at psotion `masked_i` in the \n",
        "        # input text.\n",
        "        vocab_scores = predictions[0, masked_i]\n",
        "\n",
        "        # Use `argmax` to get the index of the highest score. `vocab_scores` has\n",
        "        # the same length as the vocabulary, so this index is also the token ID\n",
        "        # of the highest scoring word. \n",
        "        predicted_token_id = torch.argmax(vocab_scores).item()\n",
        "\n",
        "        # Convert the token ID back to a string.\n",
        "        predicted_token = tokenizer.convert_ids_to_tokens([predicted_token_id])[0]\n",
        "        \n",
        "        # Add the token string to the list.\n",
        "        pred_tokens.append(predicted_token)\n",
        "\n",
        "    # ======== Recombine Tokens ========\n",
        "    \n",
        "    # Use the tokenizer to recombine tokens into words.\n",
        "    combined = tokenizer.convert_tokens_to_string(pred_tokens)\n",
        "\n",
        "    # Return both the list of token strings and the recombined answer string.\n",
        "    return (pred_tokens, combined)"
      ],
      "execution_count": 0,
      "outputs": []
    },
    {
      "cell_type": "markdown",
      "metadata": {
        "id": "Y5-vaDmaMas2",
        "colab_type": "text"
      },
      "source": [
        "### print_answer\n",
        "\n",
        "Prints BERT's answer and whether it's right or wrong. If BERT's answer is wrong, then this prints the correct answer, and the list of tokens predicted by BERT."
      ]
    },
    {
      "cell_type": "code",
      "metadata": {
        "id": "XjSGnisQMcee",
        "colab_type": "code",
        "colab": {}
      },
      "source": [
        "def print_answer(answer, pred_answer, pred_tokens):\n",
        "    \n",
        "    print('==== BERT\\'s Answer ====\\n')\n",
        "    \n",
        "    # If the predicted answer is correct...\n",
        "    # Note: The predicted answer will be lowercase...\n",
        "    if (answer.lower() == pred_answer):\n",
        "        print('    \"' + pred_answer + '\"  -  CORRECT!')\n",
        "    \n",
        "    # If it's wrong...\n",
        "    else:\n",
        "        # \n",
        "        print('    \"' + pred_answer + '\"  -  WRONG.\\n')\n",
        "        print('    Correct:    \"' + answer + '\"\\n')\n",
        "        print('    Tokens:     ', pred_tokens, '\\n')\n",
        "        "
      ],
      "execution_count": 0,
      "outputs": []
    },
    {
      "cell_type": "markdown",
      "metadata": {
        "id": "gSwgTQiL6E8W",
        "colab_type": "text"
      },
      "source": [
        "## Examples"
      ]
    },
    {
      "cell_type": "markdown",
      "metadata": {
        "id": "lr30vnqG_Qmn",
        "colab_type": "text"
      },
      "source": [
        "### Single Question"
      ]
    },
    {
      "cell_type": "markdown",
      "metadata": {
        "id": "0yGu-n07Murb",
        "colab_type": "text"
      },
      "source": [
        "*Ask a question by providing question and answer strings.*"
      ]
    },
    {
      "cell_type": "code",
      "metadata": {
        "colab_type": "code",
        "outputId": "9dc91dbc-fb1f-437d-ae78-935c674a1498",
        "id": "_geNJPD46dbO",
        "colab": {
          "base_uri": "https://localhost:8080/",
          "height": 374
        }
      },
      "source": [
        "# Specify the question as a complete sentence (don't put in the blanks \n",
        "# yourself), and specify the \"answer\", the portion of the question which you \n",
        "# want to be masked out.\n",
        "text = \"Winston Churchill was the Prime Minister of the United Kingdom from 1940 to 1945, when he led Britain to victory in the Second World War.\"\n",
        "answer = \"Winston Churchill\"\n",
        "\n",
        "# Print the question.\n",
        "print_question(text, answer)\n",
        "\n",
        "# Predict the answer.\n",
        "(tokens, pred_answer) = predict_answer(text, answer)\n",
        "\n",
        "# Print and score the answer.\n",
        "print_answer(answer, pred_answer, tokens)\n"
      ],
      "execution_count": 88,
      "outputs": [
        {
          "output_type": "stream",
          "text": [
            "==== Question ====\n",
            "\n",
            "    _________________ was the Prime Minister of the United Kingdom from 1940 to\n",
            "    1945, when he led Britain to victory in the Second World War.\n",
            "\n",
            "GE: enter predict_answer\n",
            "answer:  Winston Churchill\n",
            "answer_tokens=  ['Winston', 'Churchill']\n",
            "masks_str=  [MASK] [MASK]\n",
            "q_masked=  [MASK] [MASK] was the Prime Minister of the United Kingdom from 1940 to 1945, when he led Britain to victory in the Second World War.\n",
            "input_ids=  [101, 103, 103, 1108, 1103, 3460, 2110, 1104, 1103, 1244, 2325, 1121, 3020, 1106, 2481, 117, 1165, 1119, 1521, 2855, 1106, 2681, 1107, 1103, 2307, 1291, 1414, 119, 102]\n",
            "==== BERT's Answer ====\n",
            "\n",
            "    \"Winston Churchill\"  -  WRONG.\n",
            "\n",
            "    Correct:    \"Winston Churchill\"\n",
            "\n",
            "    Tokens:      ['Winston', 'Churchill'] \n",
            "\n"
          ],
          "name": "stdout"
        }
      ]
    },
    {
      "cell_type": "markdown",
      "metadata": {
        "id": "QQ1sjQELMon7",
        "colab_type": "text"
      },
      "source": [
        "*Ask a question from the Google spreadsheet by specifying its ID number.*"
      ]
    },
    {
      "cell_type": "code",
      "metadata": {
        "id": "wCsqyxKHLC2-",
        "colab_type": "code",
        "outputId": "b67798f7-41a9-4d59-a035-366a22416a3b",
        "colab": {
          "base_uri": "https://localhost:8080/",
          "height": 230
        }
      },
      "source": [
        "# Retrieve a question using its ID.\n",
        "q = df2.loc[9]\n",
        "\n",
        "text = q['Question']\n",
        "answer = str(q['Answer']) # Cast to string in case it's a number.\n",
        "\n",
        "# Print the question.\n",
        "print_question(text, answer)\n",
        "\n",
        "# Predict the answer.\n",
        "(tokens, pred_answer) = predict_answer(text, answer)\n",
        "\n",
        "# Print and score the answer.\n",
        "print_answer(answer, pred_answer, tokens)\n"
      ],
      "execution_count": 74,
      "outputs": [
        {
          "output_type": "stream",
          "text": [
            "==== Question ====\n",
            "\n",
            "    ___________ is called the \"Father of Medicine\".\n",
            "\n",
            "==== BERT's Answer ====\n",
            "\n",
            "    \"Williamcelcrates\"  -  WRONG.\n",
            "\n",
            "    Correct:    \"Hippocrates\"\n",
            "\n",
            "    Tokens:      ['William', '##cel', '##crates'] \n",
            "\n"
          ],
          "name": "stdout"
        }
      ]
    },
    {
      "cell_type": "markdown",
      "metadata": {
        "id": "InuKNh9lINy9",
        "colab_type": "text"
      },
      "source": [
        "### Interactive Loop\n",
        "\n",
        "I created this section for my YouTube video. It lets you iterate through all of the questions in the spreadsheet, answering them one at a time, using two cells."
      ]
    },
    {
      "cell_type": "code",
      "metadata": {
        "id": "k58DC5uS6cSJ",
        "colab_type": "code",
        "colab": {}
      },
      "source": [
        "# Create an iterator to go through the questions.\n",
        "# Run the next 2 cells repeatedly to iterate.\n",
        "iter = df2.iterrows()"
      ],
      "execution_count": 0,
      "outputs": []
    },
    {
      "cell_type": "markdown",
      "metadata": {
        "id": "ZFqnOS1wa12b",
        "colab_type": "text"
      },
      "source": [
        "*Here's the question...*"
      ]
    },
    {
      "cell_type": "code",
      "metadata": {
        "id": "FlqZvyP1Yhi0",
        "colab_type": "code",
        "outputId": "8d3a7569-d605-4b5b-cab7-bd1ab553940b",
        "colab": {
          "base_uri": "https://localhost:8080/",
          "height": 106
        }
      },
      "source": [
        "# Get the next question.\n",
        "(i, q) = next(iter)\n",
        "\n",
        "text = q['Question']\n",
        "answer = str(q['Answer']) # Cast to string in case it's a number.\n",
        "\n",
        "# Print out the question.\n",
        "print_question(text, answer)\n"
      ],
      "execution_count": 76,
      "outputs": [
        {
          "output_type": "stream",
          "text": [
            "==== Question ====\n",
            "\n",
            "    In ____, Christopher Columbus sailed across the ocean to discover the\n",
            "    Americas\n",
            "\n"
          ],
          "name": "stdout"
        }
      ]
    },
    {
      "cell_type": "markdown",
      "metadata": {
        "id": "C_v_dZN1a5gL",
        "colab_type": "text"
      },
      "source": [
        "*And here's BERT's answer!*"
      ]
    },
    {
      "cell_type": "code",
      "metadata": {
        "id": "dsFLl9M5Y-nu",
        "colab_type": "code",
        "outputId": "6012b6d2-a5d3-4ba3-ae05-3913cd88767f",
        "colab": {
          "base_uri": "https://localhost:8080/",
          "height": 70
        }
      },
      "source": [
        "# Have BERT predict the answer.\n",
        "(tokens, pred_answer) = predict_answer(text, answer)\n",
        "\n",
        "# Print BERT's answer, and whether it got it right!\n",
        "print_answer(answer, pred_answer, tokens)\n"
      ],
      "execution_count": 77,
      "outputs": [
        {
          "output_type": "stream",
          "text": [
            "==== BERT's Answer ====\n",
            "\n",
            "    \"1492\"  -  CORRECT!\n"
          ],
          "name": "stdout"
        }
      ]
    },
    {
      "cell_type": "code",
      "metadata": {
        "id": "z-q-lHwMO0Bo",
        "colab_type": "code",
        "colab": {
          "base_uri": "https://localhost:8080/",
          "height": 53
        },
        "outputId": "61af4a80-d525-4105-d943-b501ae37e6a3"
      },
      "source": [
        "# Run through all the questions and answers\n",
        "# Get the next question.\n",
        "# Compute the fraction of right versus wrong answers\n",
        "iter = df2.iterrows()\n",
        "total = 0\n",
        "total_correct = 0\n",
        "for (i, q) in iter:\n",
        "  text = q['Question']\n",
        "  answer = str(q['Answer']) # Cast to string in case it's a number.\n",
        "  # Print out the question.\n",
        "  #print_question(text, answer)\n",
        "  (tokens, pred_answer) = predict_answer(text, answer)\n",
        "  #print_answer(answer, pred_answer, tokens)\n",
        "  total_correct += (answer.lower() == pred_answer)\n",
        "  total += 1\n",
        "print(\"total correct= \", total_correct)\n",
        "print(\"total nb questions= \", total )\n",
        "# uncased Bert: correct: 22/72\n",
        "# cased Bert: correct: 15/72"
      ],
      "execution_count": 79,
      "outputs": [
        {
          "output_type": "stream",
          "text": [
            "total correct=  15\n",
            "total nb questions=  72\n"
          ],
          "name": "stdout"
        }
      ]
    },
    {
      "cell_type": "markdown",
      "metadata": {
        "id": "h8tRAKNxRsD0",
        "colab_type": "text"
      },
      "source": [
        "# GE, 2020-05-05,10.40am\n",
        "The question arises: which of Bert's layers and which tokens are being used in the downstream task? I would like to experiment with fine-tuning Bert based on the last layer, and with tokens other than CLS. First, I mus figure out how the current notebook uses Bert data. "
      ]
    },
    {
      "cell_type": "markdown",
      "metadata": {
        "id": "h0xzZfZhN5vU",
        "colab_type": "text"
      },
      "source": [
        "### BERT's Opinions"
      ]
    },
    {
      "cell_type": "markdown",
      "metadata": {
        "id": "L3J13z4taHDN",
        "colab_type": "text"
      },
      "source": [
        "To try and fabricate BERT's opinions, I ran it with some opinionated statements. \n",
        "\n",
        "The token count problem is an issue here--the number of tokens in the answer might force BERT to pick a particular answer. \n",
        "\n",
        "To combat this, I ran each statement multiple times with several possible answers to see if the token count changed BERT's answer. BERT seemed to be pretty consistent in its choices, though :)"
      ]
    },
    {
      "cell_type": "code",
      "metadata": {
        "id": "uEdDlvMXN7tM",
        "colab_type": "code",
        "outputId": "5036c7de-d6e1-48f7-a1b9-70fdbcaf6bce",
        "colab": {
          "base_uri": "https://localhost:8080/",
          "height": 1000
        }
      },
      "source": [
        "# List of (question, answer) pairs.\n",
        "pairs = [\n",
        "    (\"Microsoft has the best video game console.\", \"Microsoft\"),\n",
        "    (\"Sony has the best video game console.\", \"Sony\"),\n",
        "    (\"Nintendo has the best video game console.\", \"Nintendo\"),    \n",
        "\n",
        "    (\"I prefer the Xbox One over the PS4.\", \"Xbox One\"),\n",
        "    (\"I prefer the Xbox 360 over the PlayStation 3.\", \"Xbox 360\"),\n",
        "\n",
        "    (\"James Cameron has made many great films, but his best is Terminator 2.\", \"Terminator 2\"),\n",
        "    (\"James Cameron has made many great films, but his best is Avatar.\", \"Avatar\"),\n",
        "    (\"James Cameron has made many great films, but his best is Titanic.\", \"Titanic\"),\n",
        "\n",
        "    (\"I don't always drink beer, but when I do, I prefer Dos Equis.\", \"Dos Equis\"),\n",
        "    (\"I don't always drink beer, but when I do, I prefer Stella Artois.\", \"Stella Artois\"),\n",
        "\n",
        "    (\"Episode V is the best of the original Star Wars Trilogy.\", 'V'),\n",
        "    (\"Episode IV is the best of the original Star Wars Trilogy.\", 'IV'),\n",
        "    (\"Episode VI is the best of the original Star Wars Trilogy.\", 'VI'),\n",
        "\n",
        "    (\"The acronymn 'GIF', which stands for Graphics Interchange Format, should be pronounced “jif”, like the brand of peanut butter.\", \"jif\"),\n",
        "    \n",
        "    (\"Chris McCormick creaties helpful illustrations and clear explanations of difficult subjects in machine learning and natural language processing.\", \"machine learning\"),\n",
        "]\n",
        "\n",
        "# For each question...\n",
        "for p in pairs:\n",
        "    text = p[0]\n",
        "    answer = p[1]\n",
        "\n",
        "    # Print out the question.\n",
        "    print_question(text, answer)\n",
        "\n",
        "    # Predict the answer.\n",
        "    (tokens, pred_answer) = predict_answer(text, answer)\n",
        "\n",
        "    # Print and score the answer.\n",
        "    print_answer(answer, pred_answer, tokens)"
      ],
      "execution_count": 40,
      "outputs": [
        {
          "output_type": "stream",
          "text": [
            "==== Question ====\n",
            "\n",
            "    _________ has the best video game console.\n",
            "\n",
            "==== BERT's Answer ====\n",
            "\n",
            "    \"japan\"  -  WRONG.\n",
            "\n",
            "    Correct:    \"Microsoft\"\n",
            "\n",
            "    Tokens:      ['japan'] \n",
            "\n",
            "==== Question ====\n",
            "\n",
            "    ____ has the best video game console.\n",
            "\n",
            "==== BERT's Answer ====\n",
            "\n",
            "    \"japan\"  -  WRONG.\n",
            "\n",
            "    Correct:    \"Sony\"\n",
            "\n",
            "    Tokens:      ['japan'] \n",
            "\n",
            "==== Question ====\n",
            "\n",
            "    ________ has the best video game console.\n",
            "\n",
            "==== BERT's Answer ====\n",
            "\n",
            "    \"japan\"  -  WRONG.\n",
            "\n",
            "    Correct:    \"Nintendo\"\n",
            "\n",
            "    Tokens:      ['japan'] \n",
            "\n",
            "==== Question ====\n",
            "\n",
            "    I prefer the ________ over the PS4.\n",
            "\n",
            "==== BERT's Answer ====\n",
            "\n",
            "    \"ipod4\"  -  WRONG.\n",
            "\n",
            "    Correct:    \"Xbox One\"\n",
            "\n",
            "    Tokens:      ['ipod', '##4'] \n",
            "\n",
            "==== Question ====\n",
            "\n",
            "    I prefer the ________ over the PlayStation 3.\n",
            "\n",
            "==== BERT's Answer ====\n",
            "\n",
            "    \"xbox 2\"  -  WRONG.\n",
            "\n",
            "    Correct:    \"Xbox 360\"\n",
            "\n",
            "    Tokens:      ['xbox', '2'] \n",
            "\n",
            "==== Question ====\n",
            "\n",
            "    James Cameron has made many great films, but his best is ____________.\n",
            "\n",
            "==== BERT's Answer ====\n",
            "\n",
            "    \"the of titanic\"  -  WRONG.\n",
            "\n",
            "    Correct:    \"Terminator 2\"\n",
            "\n",
            "    Tokens:      ['the', 'of', 'titanic'] \n",
            "\n",
            "==== Question ====\n",
            "\n",
            "    James Cameron has made many great films, but his best is ______.\n",
            "\n",
            "==== BERT's Answer ====\n",
            "\n",
            "    \"titanic\"  -  WRONG.\n",
            "\n",
            "    Correct:    \"Avatar\"\n",
            "\n",
            "    Tokens:      ['titanic'] \n",
            "\n",
            "==== Question ====\n",
            "\n",
            "    James Cameron has made many great films, but his best is _______.\n",
            "\n",
            "==== BERT's Answer ====\n",
            "\n",
            "    \"titanic\"  -  CORRECT!\n",
            "==== Question ====\n",
            "\n",
            "    I don't always drink beer, but when I do, I prefer _________.\n",
            "\n",
            "==== BERT's Answer ====\n",
            "\n",
            "    \"a and ofs\"  -  WRONG.\n",
            "\n",
            "    Correct:    \"Dos Equis\"\n",
            "\n",
            "    Tokens:      ['a', 'and', 'of', '##s'] \n",
            "\n",
            "==== Question ====\n",
            "\n",
            "    I don't always drink beer, but when I do, I prefer _____________.\n",
            "\n",
            "==== BERT's Answer ====\n",
            "\n",
            "    \"a ands\"  -  WRONG.\n",
            "\n",
            "    Correct:    \"Stella Artois\"\n",
            "\n",
            "    Tokens:      ['a', 'and', '##s'] \n",
            "\n",
            "==== Question ====\n",
            "\n",
            "    Episode _ is the best of the original Star Wars Trilogy.\n",
            "\n",
            "==== BERT's Answer ====\n",
            "\n",
            "    \"iii\"  -  WRONG.\n",
            "\n",
            "    Correct:    \"V\"\n",
            "\n",
            "    Tokens:      ['iii'] \n",
            "\n",
            "==== Question ====\n",
            "\n",
            "    Episode __ is the best of the original Star Wars Trilogy.\n",
            "\n",
            "==== BERT's Answer ====\n",
            "\n",
            "    \"iii\"  -  WRONG.\n",
            "\n",
            "    Correct:    \"IV\"\n",
            "\n",
            "    Tokens:      ['iii'] \n",
            "\n",
            "==== Question ====\n",
            "\n",
            "    Episode __ is the best of the original Star Wars Trilogy.\n",
            "\n",
            "==== BERT's Answer ====\n",
            "\n",
            "    \"iii\"  -  WRONG.\n",
            "\n",
            "    Correct:    \"VI\"\n",
            "\n",
            "    Tokens:      ['iii'] \n",
            "\n",
            "==== Question ====\n",
            "\n",
            "    The acronymn 'GIF', which stands for Graphics Interchange Format, should be\n",
            "    pronounced “___”, like the brand of peanut butter.\n",
            "\n",
            "==== BERT's Answer ====\n",
            "\n",
            "    \"gif\"  -  WRONG.\n",
            "\n",
            "    Correct:    \"jif\"\n",
            "\n",
            "    Tokens:      ['gi', '##f'] \n",
            "\n",
            "==== Question ====\n",
            "\n",
            "    Chris McCormick creaties helpful illustrations and clear explanations of\n",
            "    difficult subjects in ________________ and natural language processing.\n",
            "\n",
            "==== BERT's Answer ====\n",
            "\n",
            "    \"computer linguistics\"  -  WRONG.\n",
            "\n",
            "    Correct:    \"machine learning\"\n",
            "\n",
            "    Tokens:      ['computer', 'linguistics'] \n",
            "\n"
          ],
          "name": "stdout"
        }
      ]
    },
    {
      "cell_type": "markdown",
      "metadata": {
        "id": "Pd7ZGGssrGOu",
        "colab_type": "text"
      },
      "source": [
        "# Part 3 - Appendix"
      ]
    },
    {
      "cell_type": "markdown",
      "metadata": {
        "id": "XfgHLMExXyIE",
        "colab_type": "text"
      },
      "source": [
        "## Trivia Question Sources\n"
      ]
    },
    {
      "cell_type": "markdown",
      "metadata": {
        "id": "koIjB88Y1w8U",
        "colab_type": "text"
      },
      "source": [
        "I had a hard time finding free trivia questions in an easily downloadable format. On top of that, almost all of the questions I've come across would require re-wording to put them in \"fill-in-the-blank\" format. \n",
        "\n",
        "Here are some interesting sources that I looked at, though, if you want to help expand the dataset!\n",
        "\n",
        "**Reddit Post & Spreadsheets**\n",
        "\n",
        "* I found this [reddit post](https://www.reddit.com/r/trivia/comments/3wzpvt/free_database_of_50000_trivia_questions/), complaining about the difficulty of finding free trivia questions.\n",
        "* The author compiled a Google spreadsheet totalling 50k trivia questions [here](https://docs.google.com/spreadsheets/d/0Bzs-xvR-5hQ3SGdxNXpWVHFNWG8/edit#gid=878197345).\n",
        "    * This spreadsheet includes questions from the shows *Who Wants to be a Millionaire?* and *Are You Smarter Than a Fifth Grader?*. \n",
        "    * It also includes a sheet named 'Trivia' which I think is a compilation of the other sources.\n",
        "\n",
        "**Jeopardy**\n",
        "\n",
        "* This site has an [archive](http://www.j-archive.com/showgame.php?game_id=3447) of all of the Jeoprady boards from the television show. The Jeopardy questions would require careful re-wording, and generally look to be very difficult!\n",
        "\n",
        "**Quizlet**\n",
        "\n",
        "* This site has free quiz questions, though not in the form that you could download easily. I took my initial examples from this set of fill-in-the-blank [flash cards](https://quizlet.com/295489702/world-history-fill-in-the-blank-flash-cards/) on world history.\n",
        "\n",
        "**Wikipedia**\n",
        "\n",
        "* Since BERT was trained on Wikipedia, taking text directly from Wikipedia seems like cheating, but maybe it's still valid to see how much knowledge BERT retained.\n",
        "* I found out there's a keyboard shortcut on Wikipedia for walking to a random article... While on Wikipedia, press `Alt + Shift + X`. You'll end up with some pretty obscure trivia this way!"
      ]
    },
    {
      "cell_type": "markdown",
      "metadata": {
        "id": "bf_jvfYu8MG-",
        "colab_type": "text"
      },
      "source": [
        "## BookCorpus\n"
      ]
    },
    {
      "cell_type": "markdown",
      "metadata": {
        "id": "2MVkSVrx08PO",
        "colab_type": "text"
      },
      "source": [
        "From the Appendix of the original [BERT paper](https://arxiv.org/pdf/1810.04805.pdf): \n",
        "> \"BERT is trained on the BooksCorpus (800M words) and Wikipedia (2,500M\n",
        "words)\". \n",
        "\n",
        "With BERT coming from Google, I always just assumed that \"BookCorpus\" referred to training on Google's massive \"Google Books\" library (which you can browse from https://books.google.com).\n",
        "\n",
        "Turns out that's completely wrong. **BookCorpus** (not BooksCorpus) comes from the following paper:\n",
        "\n",
        "* *Aligning Books and Movies: Towards Story-like Visual Explanations by Watching Movies and Reading Books* ([pdf](https://www.cv-foundation.org/openaccess/content_iccv_2015/papers/Zhu_Aligning_Books_and_ICCV_2015_paper.pdf))\n",
        "     * First Author: Yukun Zhu, University of Toronto\n",
        "     * Published ~2015\n",
        "\n",
        "Here's the description of the dataset in the paper (emphasis added):\n",
        "\n",
        "> **BookCorpus**. In order to train our sentence similarity\n",
        "model we collected a corpus of 11,038 books from the web.\n",
        "These are **free books written by yet unpublished authors.**\n",
        "We only included books that had more than 20K words\n",
        "in order to filter out perhaps noisier shorter stories. The\n",
        "dataset has books in 16 different genres, e.g., Romance\n",
        "(2,865 books), Fantasy (1,479), Science fiction (786), etc.\n",
        "Table 2 highlights the summary statistics of our corpus.\n",
        "\n",
        "Table 2, re-created from the paper.\n",
        "\n",
        "| Property                       | Value       |\n",
        "|--------------------------------|-------------|\n",
        "| # of books                     | 11,038      |\n",
        "| # of sentences                 | 74,004,228  |\n",
        "| # of words                     | 984,846,357 |\n",
        "| # of unique words mean         | 1,316,420   |\n",
        "| # of words per sentence median | 13          |\n",
        "| # of words per sentence        | 11          |\n",
        "\n",
        "There is a parallel paper by the same authors, *Skip-Thought Vectors* ([pdf](https://arxiv.org/pdf/1506.06726.pdf)). It contains a couple small extra details:\n",
        "* They offer one more category: \"Teen (430)\"\n",
        "* \"Along with narratives, books contain dialogue, emotion and a wide range of interaction between characters\".\n",
        "\n",
        "The website for the BookCorpus project is [here](https://yknzhu.wixsite.com/mbweb), but they no longer host or distribute this dataset. \n",
        "\n",
        "Instead, they say that the text was gathered from this site: https://www.smashwords.com/, and suggest that you gather your own dataset from there. I found a GitHub repo for doing just that [here](https://github.com/soskek/bookcorpus)--not a lot of activity, though.\n"
      ]
    }
  ]
}